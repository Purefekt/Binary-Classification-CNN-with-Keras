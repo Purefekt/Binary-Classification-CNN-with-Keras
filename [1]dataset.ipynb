{
 "cells": [
  {
   "cell_type": "markdown",
   "id": "0a42ef3b",
   "metadata": {},
   "source": [
    "# Dataset"
   ]
  },
  {
   "cell_type": "markdown",
   "id": "c7f3742b",
   "metadata": {},
   "source": [
    "## Dataset Breakdown\n",
    "I will be using this dataset -> https://www.kaggle.com/veersingh230799/cats-and-dogs"
   ]
  },
  {
   "cell_type": "markdown",
   "id": "0eedefb6",
   "metadata": {},
   "source": [
    "- The training dataset consists of 8000 images for both cats and dogs, total of 16000 images\n",
    "- The validation dataset consists of 3500 images for both cats and dogs, total of 7000 images\n",
    "- The testing dataset consists of 1000 images for both cats and dogs, total of 2000 images\n",
    "- In total we have 25000 images"
   ]
  },
  {
   "cell_type": "markdown",
   "id": "691e14e5",
   "metadata": {},
   "source": [
    "## Directory Structure"
   ]
  },
  {
   "cell_type": "code",
   "execution_count": null,
   "id": "7679898b",
   "metadata": {},
   "outputs": [],
   "source": [
    "cats_dogs/\n",
    "├── test/\n",
    "│   ├── cat/\n",
    "│   ├── dog/\n",
    "├── train/\n",
    "│   ├── cat/\n",
    "│   ├── dog/\n",
    "├── valid/\n",
    "│   ├── cat/\n",
    "│   ├── dog/"
   ]
  },
  {
   "cell_type": "markdown",
   "id": "3670c6fb",
   "metadata": {},
   "source": [
    "Each of these subdirectories have the number of images specified above"
   ]
  }
 ],
 "metadata": {
  "kernelspec": {
   "display_name": "cnn_models",
   "language": "python",
   "name": "cnn_models"
  },
  "language_info": {
   "codemirror_mode": {
    "name": "ipython",
    "version": 3
   },
   "file_extension": ".py",
   "mimetype": "text/x-python",
   "name": "python",
   "nbconvert_exporter": "python",
   "pygments_lexer": "ipython3",
   "version": "3.9.7"
  }
 },
 "nbformat": 4,
 "nbformat_minor": 5
}
