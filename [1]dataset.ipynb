{
 "cells": [
  {
   "cell_type": "markdown",
   "id": "0a42ef3b",
   "metadata": {},
   "source": [
    "# Dataset"
   ]
  },
  {
   "cell_type": "markdown",
   "id": "c7f3742b",
   "metadata": {},
   "source": [
    "## Dataset\n",
    "I will be using the CIFAR-10 dataset -> https://www.cs.toronto.edu/~kriz/cifar.html  \n",
    "This dataset contains 60,000 images with resolution of 32x32 for 10 classes, these classes are\n",
    "- airplane\n",
    "- automobile\n",
    "- bird\n",
    "- cat\n",
    "- deer\n",
    "- dog\n",
    "- frog\n",
    "- horse\n",
    "- ship\n",
    "- truck\n",
    "\n",
    "There are 50,000 images in training set and 10,000 images in testing set. Training set contains 5,000 images for each class and the testing set contains 1,000 images for each class"
   ]
  },
  {
   "cell_type": "markdown",
   "id": "b3315366",
   "metadata": {},
   "source": [
    "## Downloading and Saving the Dataset\n",
    "\n",
    "I used this project to easily download and seperate the dataset into train and test directories -> https://github.com/knjcode/cifar2png.  \n",
    "\n",
    "Cd to desktop and run this command (**NOTE**: Make sure the correct conda environment is active) -> \n",
    "```cifar2png cifar10 cifar_10```\n",
    "This will download the CIFAR-10 dataset zip file and then unzip it and save the dataset on the desktop in a directory named cifar_10."
   ]
  },
  {
   "cell_type": "markdown",
   "id": "0c03303c",
   "metadata": {},
   "source": [
    "The directory structure should look like this  \n",
    "```    \n",
    "cifar_10/\n",
    "├── test/\n",
    "│   ├── airplane/(0-1000 images)\n",
    "│   ├── automobile/(0-1000 images)\n",
    "│   ├── bird/(0-1000 images)\n",
    "│   ├── cat/(0-1000 images)\n",
    "│   ├── deer/(0-1000 images)\n",
    "│   ├── dog/(0-1000 images)\n",
    "│   ├── frog/(0-1000 images)\n",
    "│   ├── horse/(0-1000 images)\n",
    "│   ├── ship/(0-1000 images)\n",
    "│   ├── truck/(0-1000 images)\n",
    "├── train/\n",
    "│   ├── airplane/(0-5000 images)\n",
    "│   ├── automobile/(0-5000 images)\n",
    "│   ├── bird/(0-5000 images)\n",
    "│   ├── cat/(0-5000 images)\n",
    "│   ├── deer/(0-5000 images)\n",
    "│   ├── dog/(0-5000 images)\n",
    "│   ├── frog/(0-5000 images)\n",
    "│   ├── horse/(0-5000 images)\n",
    "│   ├── ship/(0-5000 images)\n",
    "│   ├── truck/(0-5000 images)\n",
    "```"
   ]
  },
  {
   "cell_type": "markdown",
   "id": "fec28cfc",
   "metadata": {},
   "source": [
    "There will be 2 subdirectories in the cifar_10 directory called test and train. Both will have 10 subdirectories of all 10 classes with 1000 images per class in test and 5000 images per class in train. You can then delete the `cifar-10-python.tar.gz` zip file."
   ]
  },
  {
   "cell_type": "markdown",
   "id": "6625e06c",
   "metadata": {},
   "source": [
    "The reason to seperate the dataset in this way is that using `keras.preprocessing.image.ImageDataGenerator.flow_from_directory` in keras will auto label the images to the name of the folder they are in."
   ]
  },
  {
   "cell_type": "code",
   "execution_count": null,
   "id": "0d5e67a0",
   "metadata": {},
   "outputs": [],
   "source": []
  }
 ],
 "metadata": {
  "kernelspec": {
   "display_name": "cnn_models",
   "language": "python",
   "name": "cnn_models"
  },
  "language_info": {
   "codemirror_mode": {
    "name": "ipython",
    "version": 3
   },
   "file_extension": ".py",
   "mimetype": "text/x-python",
   "name": "python",
   "nbconvert_exporter": "python",
   "pygments_lexer": "ipython3",
   "version": "3.9.7"
  }
 },
 "nbformat": 4,
 "nbformat_minor": 5
}
