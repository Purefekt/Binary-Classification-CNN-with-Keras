{
 "cells": [
  {
   "cell_type": "markdown",
   "id": "3ed6d09c",
   "metadata": {},
   "source": [
    "# !!! CHANGE KERNEL TO -> testing_model_env"
   ]
  },
  {
   "cell_type": "markdown",
   "id": "520798fb",
   "metadata": {},
   "source": [
    "# Testing Model"
   ]
  },
  {
   "cell_type": "code",
   "execution_count": 1,
   "id": "43cac1ba",
   "metadata": {},
   "outputs": [],
   "source": [
    "# import all libraries\n",
    "import matplotlib.pyplot as plt\n",
    "import json\n",
    "import os\n",
    "import numpy as np\n",
    "from tensorflow import keras\n",
    "from tensorflow.keras.preprocessing import image"
   ]
  },
  {
   "cell_type": "markdown",
   "id": "9ffd48d8",
   "metadata": {},
   "source": [
    "## Time taken to train models\n"
   ]
  },
  {
   "cell_type": "code",
   "execution_count": 2,
   "id": "f6f0b0e7",
   "metadata": {},
   "outputs": [
    {
     "name": "stdout",
     "output_type": "stream",
     "text": [
      "dict_keys(['val_loss', 'val_acc', 'loss', 'acc', 'time_to_train_gpu'])\n"
     ]
    }
   ],
   "source": [
    "# read log json files\n",
    "f = open('log_gpu.json',)\n",
    "log_gpu = json.load(f)\n",
    "f.close()\n",
    "\n",
    "\n",
    "\n",
    "print(log_gpu.keys())"
   ]
  },
  {
   "cell_type": "code",
   "execution_count": 3,
   "id": "49f0b2a4",
   "metadata": {},
   "outputs": [
    {
     "data": {
      "image/png": "[encoded data removed]",
      "text/plain": [
       "<Figure size 432x288 with 1 Axes>"
      ]
     },
     "metadata": {
      "needs_background": "light"
     },
     "output_type": "display_data"
    },
    {
     "name": "stdout",
     "output_type": "stream",
     "text": [
      "CPU -> 1081.0 minutes\n",
      "GPU -> 45.29 minutes\n"
     ]
    }
   ],
   "source": [
    "# Plot\n",
    "# GPU\n",
    "gpu_training_time = log_gpu['time_to_train_gpu']\n",
    "\n",
    "#CPU\n",
    "# time taken for 1 epoch on cpu\n",
    "one_epoch_on_cpu = 2162\n",
    "# time taken for 50 epochs on cpu\n",
    "cpu_training_time = one_epoch_on_cpu * 30\n",
    "\n",
    "\n",
    "# convert to minutes\n",
    "gpu_training_time = round(gpu_training_time/60, 2)\n",
    "cpu_training_time = round(cpu_training_time/60, 2)\n",
    "\n",
    "x = ['GPU', 'CPU']\n",
    "y = [gpu_training_time, cpu_training_time]\n",
    "\n",
    "plt.barh(x, y)\n",
    "plt.xlabel(\"Time in minutes\")\n",
    "plt.title(\"Time to train model on GPU and CPU\")\n",
    "\n",
    "# plt.savefig('time_to_train.png', dpi=300, bbox_inches='tight')\n",
    "plt.show()\n",
    "\n",
    "print(f'CPU -> {cpu_training_time} minutes')\n",
    "print(f'GPU -> {gpu_training_time} minutes')"
   ]
  },
  {
   "cell_type": "markdown",
   "id": "195a78d3",
   "metadata": {},
   "source": [
    "## Testing Model Against Testing Set\n",
    "There are 1000 test images for both cat and dog class. The label for cat is 0 and dog is 1. If a model predicts 1000 cat images as 0 then the accuracy is 100% and the same for dog."
   ]
  },
  {
   "cell_type": "code",
   "execution_count": 10,
   "id": "0176e424",
   "metadata": {},
   "outputs": [
    {
     "name": "stderr",
     "output_type": "stream",
     "text": [
      "2021-10-13 12:07:24.968106: I tensorflow/core/platform/cpu_feature_guard.cc:142] This TensorFlow binary is optimized with oneAPI Deep Neural Network Library (oneDNN) to use the following CPU instructions in performance-critical operations:  AVX2 FMA\n",
      "To enable them in other operations, rebuild TensorFlow with the appropriate compiler flags.\n",
      "2021-10-13 12:07:25.159675: I tensorflow/compiler/mlir/mlir_graph_optimization_pass.cc:185] None of the MLIR Optimization Passes are enabled (registered 2)\n"
     ]
    },
    {
     "name": "stdout",
     "output_type": "stream",
     "text": [
      "Total images --> 1000\n",
      "Images correctly labelled --> 711\n",
      "\n",
      "Accuracy for class CAT--> 71.1%\n"
     ]
    }
   ],
   "source": [
    "# Accuracy will be total images flagged as the correct folder type / total images in the folder\n",
    "\n",
    "# Testing accuracy for cat images\n",
    "total_images = 0\n",
    "images_correctly_labelled = 0\n",
    "true_label = 0\n",
    "\n",
    "# load the model\n",
    "model = keras.models.load_model('models/trained_model_gpu.h5')\n",
    "\n",
    "cats_test_dir = '/Users/veersingh/Desktop/cats_dogs/test/cat'\n",
    "for filename in os.listdir(cats_test_dir):\n",
    "    total_images = total_images + 1\n",
    "    \n",
    "    current_image_file_path = cats_test_dir + '/' + filename\n",
    "    \n",
    "    current_image = image.load_img(current_image_file_path,\n",
    "                                   target_size=(100, 100),\n",
    "                                   color_mode='rgb')\n",
    "\n",
    "    Y = image.img_to_array(current_image)\n",
    "    X = np.expand_dims(Y, axis=0)\n",
    "    val = model.predict(X)\n",
    "    \n",
    "    if val == true_label:\n",
    "        images_correctly_labelled = images_correctly_labelled + 1\n",
    "\n",
    "print(f'Total images --> {total_images}')\n",
    "print(f'Images correctly labelled --> {images_correctly_labelled}')\n",
    "\n",
    "print(f'\\nAccuracy for class CAT--> {images_correctly_labelled/total_images*100}%')"
   ]
  },
  {
   "cell_type": "code",
   "execution_count": 11,
   "id": "756368fc",
   "metadata": {},
   "outputs": [
    {
     "name": "stdout",
     "output_type": "stream",
     "text": [
      "Total images --> 1000\n",
      "Images correctly labelled --> 875\n",
      "\n",
      "Accuracy for class DOG--> 87.5%\n"
     ]
    }
   ],
   "source": [
    "# Accuracy will be total images flagged as the correct folder type / total images in the folder\n",
    "\n",
    "# Testing accuracy for dog images\n",
    "total_images = 0\n",
    "images_correctly_labelled = 0\n",
    "true_label = 1\n",
    "\n",
    "# load the model\n",
    "model = keras.models.load_model('models/trained_model_gpu.h5')\n",
    "\n",
    "dogs_test_dir = '/Users/veersingh/Desktop/cats_dogs/test/dog'\n",
    "for filename in os.listdir(dogs_test_dir):\n",
    "    total_images = total_images + 1\n",
    "    \n",
    "    current_image_file_path = dogs_test_dir + '/' + filename\n",
    "    \n",
    "    current_image = image.load_img(current_image_file_path,\n",
    "                                   target_size=(100, 100),\n",
    "                                   color_mode='rgb')\n",
    "\n",
    "    Y = image.img_to_array(current_image)\n",
    "    X = np.expand_dims(Y, axis=0)\n",
    "    val = model.predict(X)\n",
    "    \n",
    "    if val == true_label:\n",
    "        images_correctly_labelled = images_correctly_labelled + 1\n",
    "\n",
    "print(f'Total images --> {total_images}')\n",
    "print(f'Images correctly labelled --> {images_correctly_labelled}')\n",
    "\n",
    "print(f'\\nAccuracy for class DOG--> {images_correctly_labelled/total_images*100}%')"
   ]
  },
  {
   "cell_type": "markdown",
   "id": "19712a53",
   "metadata": {},
   "source": [
    "## Conclusion\n",
    "\n",
    "Dont train on CPU. The results are good."
   ]
  }
 ],
 "metadata": {
  "interpreter": {
   "hash": "6b6db8522105c76d0bc75a37927d182d8487e0c786a1cca257ab2d31c37494e9"
  },
  "kernelspec": {
   "display_name": "Python 3.9.7 64-bit ('testing_model_env': conda)",
   "name": "python3"
  },
  "language_info": {
   "codemirror_mode": {
    "name": "ipython",
    "version": 3
   },
   "file_extension": ".py",
   "mimetype": "text/x-python",
   "name": "python",
   "nbconvert_exporter": "python",
   "pygments_lexer": "ipython3",
   "version": "3.9.7"
  }
 },
 "nbformat": 4,
 "nbformat_minor": 5
}
